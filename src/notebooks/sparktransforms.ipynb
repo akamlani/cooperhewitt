{
 "metadata": {
  "name": "",
  "signature": "sha256:8e66421d36aa52cf014c0ee8e7355cc0805330c827276a8a6a20760ecf0bb7a3"
 },
 "nbformat": 3,
 "nbformat_minor": 0,
 "worksheets": [
  {
   "cells": [
    {
     "cell_type": "code",
     "collapsed": false,
     "input": [
      "import ch_spark as chs\n",
      "import ch_pen as chp\n",
      "import ch_metaobjects as chm\n",
      "import datetime\n",
      "import pandas as pd\n",
      "from pyspark.sql.types import StructType, StructField, IntegerType, StringType"
     ],
     "language": "python",
     "metadata": {},
     "outputs": [],
     "prompt_number": 1
    },
    {
     "cell_type": "code",
     "collapsed": false,
     "input": [
      "sp   = chs.SparkEngine(sc)\n",
      "pen  = chp.Pen()\n",
      "meta = chm.MetaObjectStore()"
     ],
     "language": "python",
     "metadata": {},
     "outputs": [],
     "prompt_number": 2
    },
    {
     "cell_type": "code",
     "collapsed": false,
     "input": [
      "samples_cols = filter(lambda x: isinstance(pen.df_pen[x].iloc[0], datetime.date), pen.df_pen.columns)\n",
      "samples_frame = pen.df_pen.drop(samples_cols, axis=1)\n",
      "temporal_cols = ['refers_to_object_id', 'visit_raw', 'room_floor', 'room_id', 'room_name', \n",
      "                 'spot_id', 'spot_name', 'spot_description',\n",
      "                 'room_count_objects',  'room_count_spots', 'spot_count_objects']\n",
      "temporal_frame = meta.df_locations[temporal_cols]"
     ],
     "language": "python",
     "metadata": {},
     "outputs": [],
     "prompt_number": 3
    },
    {
     "cell_type": "code",
     "collapsed": false,
     "input": [
      "# we do not want to infer directly, as it takes quite a bit of time\n",
      "schema_samples = StructType([\n",
      "            StructField(\"id\",                     IntegerType(), True),\n",
      "            StructField(\"tool_id\",                IntegerType(), True),\n",
      "            StructField(\"bundle_id\",              StringType(),  True),\n",
      "            StructField(\"refers_to_object_id\",    IntegerType(), True),\n",
      "            StructField(\"created\",                IntegerType(), True),\n",
      "            StructField(\"month\",                  IntegerType(), True),\n",
      "            StructField(\"year\",                   IntegerType(), True),\n",
      "            StructField(\"day\",                    IntegerType(), True),\n",
      "            StructField(\"dow\",                    IntegerType(), True),\n",
      "            StructField(\"week\",                   IntegerType(), True),\n",
      "            StructField(\"weekend\",                IntegerType(), True),\n",
      "            StructField(\"hour\",                   IntegerType(), True),\n",
      "            StructField(\"quarter\",                IntegerType(), True),\n",
      "            StructField(\"tagged_after_close\",     IntegerType(), True),\n",
      "            StructField(\"during_exhibition\",      IntegerType(), True),\n",
      "            StructField(\"visitor_drawn\",          IntegerType(), True)\n",
      "        ])\n",
      "samples_frame_data = samples_frame.values.tolist()"
     ],
     "language": "python",
     "metadata": {},
     "outputs": [],
     "prompt_number": 4
    },
    {
     "cell_type": "code",
     "collapsed": false,
     "input": [
      "sp.execute_query( (schema_samples, samples_frame_data, \"samples\"), (\"\", temporal_frame, \"temporal\"), ['visit_raw'] )"
     ],
     "language": "python",
     "metadata": {},
     "outputs": [
      {
       "output_type": "stream",
       "stream": "stdout",
       "text": [
        "root\n",
        " |-- id: integer (nullable = true)\n",
        " |-- tool_id: integer (nullable = true)\n",
        " |-- bundle_id: string (nullable = true)\n",
        " |-- refers_to_object_id: integer (nullable = true)\n",
        " |-- created: integer (nullable = true)\n",
        " |-- month: integer (nullable = true)\n",
        " |-- year: integer (nullable = true)\n",
        " |-- day: integer (nullable = true)\n",
        " |-- dow: integer (nullable = true)\n",
        " |-- week: integer (nullable = true)\n",
        " |-- weekend: integer (nullable = true)\n",
        " |-- hour: integer (nullable = true)\n",
        " |-- quarter: integer (nullable = true)\n",
        " |-- tagged_after_close: integer (nullable = true)\n",
        " |-- during_exhibition: integer (nullable = true)\n",
        " |-- visitor_drawn: integer (nullable = true)\n",
        "\n",
        "root\n",
        " |-- refers_to_object_id: long (nullable = true)\n",
        " |-- visit_raw: long (nullable = true)\n",
        " |-- room_floor: double (nullable = true)\n",
        " |-- room_id: long (nullable = true)\n",
        " |-- room_name: string (nullable = true)\n",
        " |-- spot_id: long (nullable = true)\n",
        " |-- spot_name: string (nullable = true)\n",
        " |-- spot_description: string (nullable = true)\n",
        " |-- room_count_objects: long (nullable = true)\n",
        " |-- room_count_spots: long (nullable = true)\n",
        " |-- spot_count_objects: long (nullable = true)\n"
       ]
      },
      {
       "output_type": "stream",
       "stream": "stdout",
       "text": [
        "\n",
        "root\n",
        " |-- refers_to_object_id: integer (nullable = true)\n",
        " |-- created: integer (nullable = true)\n",
        " |-- id: integer (nullable = true)\n",
        " |-- tool_id: integer (nullable = true)\n",
        " |-- bundle_id: string (nullable = true)\n",
        " |-- month: integer (nullable = true)\n",
        " |-- year: integer (nullable = true)\n",
        " |-- day: integer (nullable = true)\n",
        " |-- dow: integer (nullable = true)\n",
        " |-- week: integer (nullable = true)\n",
        " |-- weekend: integer (nullable = true)\n",
        " |-- hour: integer (nullable = true)\n",
        " |-- quarter: integer (nullable = true)\n",
        " |-- tagged_after_close: integer (nullable = true)\n",
        " |-- during_exhibition: integer (nullable = true)\n",
        " |-- visitor_drawn: integer (nullable = true)\n",
        " |-- visit_raw: long (nullable = true)\n",
        " |-- room_floor: double (nullable = true)\n",
        " |-- room_id: long (nullable = true)\n",
        " |-- room_name: string (nullable = true)\n",
        " |-- spot_id: long (nullable = true)\n",
        " |-- spot_name: string (nullable = true)\n",
        " |-- spot_description: string (nullable = true)\n",
        " |-- room_count_objects: long (nullable = true)\n",
        " |-- room_count_spots: long (nullable = true)\n",
        " |-- spot_count_objects: long (nullable = true)\n",
        " |-- delta: integer (nullable = true)\n",
        " |-- min_delta: integer (nullable = true)\n",
        " |-- ranks: integer (nullable = true)\n",
        " |-- meta_store: integer (nullable = false)\n"
       ]
      },
      {
       "output_type": "stream",
       "stream": "stdout",
       "text": [
        "\n"
       ]
      }
     ],
     "prompt_number": 5
    },
    {
     "cell_type": "code",
     "collapsed": false,
     "input": [],
     "language": "python",
     "metadata": {},
     "outputs": [],
     "prompt_number": 5
    }
   ],
   "metadata": {}
  }
 ]
}