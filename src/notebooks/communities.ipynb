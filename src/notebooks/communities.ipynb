{
 "cells": [
  {
   "cell_type": "code",
   "execution_count": 12,
   "metadata": {
    "collapsed": false
   },
   "outputs": [],
   "source": [
    "%matplotlib inline\n",
    "import warnings\n",
    "import os\n",
    "import numpy as np\n",
    "import pandas as pd\n",
    "\n",
    "import ch_pen as chp\n",
    "import ch_metaobjects as chm\n",
    "import graphs\n",
    "import plots\n",
    "\n",
    "import plotly as py\n",
    "import plotly.graph_objs as go\n",
    "\n",
    "warnings.filterwarnings('ignore')\n",
    "root_path = os.environ['COOPERHEWITT_ROOT']"
   ]
  },
  {
   "cell_type": "code",
   "execution_count": 13,
   "metadata": {
    "collapsed": false
   },
   "outputs": [
    {
     "name": "stdout",
     "output_type": "stream",
     "text": [
      "The draw time for this plot will be slow for clients without much RAM.\n"
     ]
    }
   ],
   "source": [
    "# objects\n",
    "pen = chp.Pen()\n",
    "meta = chm.MetaObjectStore()\n",
    "dsp = plots.Display()\n",
    "# use community graphs\n",
    "G = graphs.GraphConn()\n",
    "neighbors = G.iGraph_build()\n",
    "gx  = G.iGraph_layout(neighbors)\n",
    "fig = dsp.plotly_graph(gx, 'cooperhewitt_tagbehavior', root_path + '/plots/cooperhewitt_tagbehavior.png')"
   ]
  },
  {
   "cell_type": "code",
   "execution_count": 14,
   "metadata": {
    "collapsed": false
   },
   "outputs": [
    {
     "name": "stdout",
     "output_type": "stream",
     "text": [
      "The draw time for this plot will be slow for clients without much RAM.\n"
     ]
    },
    {
     "data": {
      "text/html": [
       "<iframe id=\"igraph\" scrolling=\"no\" style=\"border:none;\" seamless=\"seamless\" src=\"https://plot.ly/~akamlani/89.embed\" height=\"1000px\" width=\"1000px\"></iframe>"
      ],
      "text/plain": [
       "<plotly.tools.PlotlyDisplay object>"
      ]
     },
     "execution_count": 14,
     "metadata": {},
     "output_type": "execute_result"
    }
   ],
   "source": [
    "# requires plotly configuration signin \n",
    "# without configuration, reference the following url: https://plot.ly/~akamlani/89/artwork/\n",
    "py.plotly.iplot(fig, filename='cooperhewitt_tagbehavior')"
   ]
  },
  {
   "cell_type": "code",
   "execution_count": null,
   "metadata": {
    "collapsed": true
   },
   "outputs": [],
   "source": []
  }
 ],
 "metadata": {
  "kernelspec": {
   "display_name": "Python 2",
   "language": "python",
   "name": "python2"
  },
  "language_info": {
   "codemirror_mode": {
    "name": "ipython",
    "version": 2
   },
   "file_extension": ".py",
   "mimetype": "text/x-python",
   "name": "python",
   "nbconvert_exporter": "python",
   "pygments_lexer": "ipython2",
   "version": "2.7.11"
  }
 },
 "nbformat": 4,
 "nbformat_minor": 0
}
