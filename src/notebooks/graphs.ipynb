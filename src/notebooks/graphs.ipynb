{
 "metadata": {
  "name": "",
  "signature": "sha256:f658860713a41e09d9912537cdb921acfbd10e882e06738bd903014f7e8e46bb"
 },
 "nbformat": 3,
 "nbformat_minor": 0,
 "worksheets": [
  {
   "cells": [
    {
     "cell_type": "code",
     "collapsed": false,
     "input": [
      "import os\n",
      "import sys\n",
      "sys.path.append(os.environ['COOPERHEWITT_ROOT'] + '/src')\n",
      "sys.path.append(os.environ['COOPERHEWITT_ROOT'] + '/src/apps')"
     ],
     "language": "python",
     "metadata": {},
     "outputs": [],
     "prompt_number": 1
    },
    {
     "cell_type": "code",
     "collapsed": false,
     "input": [
      "import ch_graphframes_utils as cfgu\n",
      "import ch_graphframes as cgf\n",
      "import ch_metaobjects as chm\n",
      "import ch_pen as chp\n",
      "import plots\n",
      "%matplotlib inline\n",
      "\n",
      "from pprint import pprint\n",
      "from IPython.core.display import display"
     ],
     "language": "python",
     "metadata": {},
     "outputs": [],
     "prompt_number": 2
    },
    {
     "cell_type": "code",
     "collapsed": false,
     "input": [
      "### objects\n",
      "dsp  = plots.Display()\n",
      "pen  = chp.Pen()\n",
      "meta = chm.MetaObjectStore()"
     ],
     "language": "python",
     "metadata": {},
     "outputs": [],
     "prompt_number": 3
    },
    {
     "cell_type": "code",
     "collapsed": false,
     "input": [
      "### Graph Frames\n",
      "sgf = cgf.SparkGraphFrames(sc)\n",
      "sgf.create_graph()\n",
      "sgf.df_edges.printSchema()\n",
      "sgf.df_vertices.printSchema()"
     ],
     "language": "python",
     "metadata": {},
     "outputs": [
      {
       "output_type": "stream",
       "stream": "stdout",
       "text": [
        "root\n",
        " |-- src: long (nullable = true)\n",
        " |-- dst: long (nullable = true)\n",
        "\n",
        "root\n",
        " |-- id: string (nullable = true)\n",
        " |-- title: string (nullable = true)\n",
        " |-- date: string (nullable = true)\n",
        " |-- department: string (nullable = true)\n",
        " |-- department_id: string (nullable = true)\n",
        " |-- type: string (nullable = true)\n",
        " |-- type_id: string (nullable = true)\n",
        " |-- loan: string (nullable = true)\n",
        " |-- meta_store: integer (nullable = true)\n",
        "\n"
       ]
      }
     ],
     "prompt_number": 4
    },
    {
     "cell_type": "code",
     "collapsed": false,
     "input": [
      "### Evaluate PageRank\n",
      "ranks = sgf.g.pageRank(resetProbability=0.15, tol=0.01)\n",
      "df_ranks_selected, df_meta_ranks = cfgu.evaluate_pagerank(ranks, meta.df_objects_loctypes)\n",
      "rank_ids = list(df_ranks_selected.id.unique()[:10])"
     ],
     "language": "python",
     "metadata": {},
     "outputs": [],
     "prompt_number": 6
    },
    {
     "cell_type": "code",
     "collapsed": false,
     "input": [
      "# evaluate transition locations\n",
      "# src type: 'poster', 'Drawing' 'concept art', destination: influential artwork\n",
      "query_tr_in  = {'influence': 'dst', 'transition': 'src'}\n",
      "df_transitions_in  = sgf.transition_vertice_types(ranks, rank_ids, query_tr_in)\n",
      "# src type: influential artwork, destination: 'poster'/'concept art'; 'poster'/'Drawing'\n",
      "query_tr_out = {'influence': 'src', 'transition': 'dst'}\n",
      "df_transitions_out = sgf.transition_vertice_types(ranks, rank_ids, query_tr_out)"
     ],
     "language": "python",
     "metadata": {},
     "outputs": [],
     "prompt_number": 7
    },
    {
     "cell_type": "code",
     "collapsed": false,
     "input": [
      "# Transitions to and from influential paintings (k = top 10)\n",
      "query_cnt = 1\n",
      "print \"Transitions towards Influential\"\n",
      "display(sgf.show_transitions(df_transitions_in,  query_cnt))\n",
      "print \"Transitions departing Influential\"\n",
      "display(sgf.show_transitions(df_transitions_out, query_cnt))"
     ],
     "language": "python",
     "metadata": {},
     "outputs": [
      {
       "output_type": "stream",
       "stream": "stdout",
       "text": [
        "Transitions towards Influential\n",
        "18733333 Pair of gates\n",
        "[   {   'count': 128, 'type': u'poster'},\n",
        "    {   'count': 79, 'type': u'Drawing'},\n",
        "    {   'count': 42, 'type': u'Concept art'},\n",
        "    {   'count': 38, 'type': u'Sidewall'},\n",
        "    {   'count': 23, 'type': u'Print'},\n",
        "    {   'count': 16, 'type': u'book cover'},\n",
        "    {   'count': 16, 'type': u'textile'},\n",
        "    {   'count': 14, 'type': u'Vase'},\n",
        "    {   'count': 11, 'type': u'chair'},\n",
        "    {   'count': 10, 'type': u'photograph'}]\n"
       ]
      },
      {
       "metadata": {},
       "output_type": "display_data",
       "text": [
        "None"
       ]
      },
      {
       "output_type": "stream",
       "stream": "stdout",
       "text": [
        "Transitions departing Influential\n",
        "18733333 Pair of gates\n",
        "[   {   'count': 105, 'type': u'poster'},\n",
        "    {   'count': 60, 'type': u'Drawing'},\n",
        "    {   'count': 39, 'type': u'Sidewall'},\n",
        "    {   'count': 32, 'type': u'Concept art'},\n",
        "    {   'count': 19, 'type': u'Print'},\n",
        "    {   'count': 19, 'type': u'textile'},\n",
        "    {   'count': 12, 'type': u'chair'},\n",
        "    {   'count': 10, 'type': u'photograph'},\n",
        "    {   'count': 9, 'type': u'book'},\n",
        "    {   'count': 9, 'type': u'Vase'}]\n"
       ]
      },
      {
       "metadata": {},
       "output_type": "display_data",
       "text": [
        "None"
       ]
      }
     ],
     "prompt_number": 8
    },
    {
     "cell_type": "code",
     "collapsed": false,
     "input": [
      "### Tier of page ranks\n",
      "print \"Top 10 Tier Pagerank Measurements\"\n",
      "top_ranks, infl_tier1_tags     = cfgu.measure_pagerank(ranks, pen.df_pen, k=10, tier='top')\n",
      "print \"\\nBottom 10 Tier Pagerank Measurements\"\n",
      "bottom_ranks, infl_tierk_tags  = cfgu.measure_pagerank(ranks, pen.df_pen, k=10, tier='bottom')"
     ],
     "language": "python",
     "metadata": {},
     "outputs": [
      {
       "output_type": "stream",
       "stream": "stdout",
       "text": [
        "Top 10 Tier Pagerank Measurements\n",
        "# Influential Tags: 123998,\n",
        "% of Overall Tags: 0.0344464245285"
       ]
      },
      {
       "output_type": "stream",
       "stream": "stdout",
       "text": [
        "\n",
        "# Per Influential Exhibition Tags: 38314\n",
        "% of Influential Tags: 0.308988854659\n",
        "% of Overall Tags: 0.0106435612621\n",
        "# Per Influential After Closing Time Tags: 359\n",
        "Per Infuential Time Period: (year, cnt)\n",
        "[(2015, 105413), (2016, 18585)]\n",
        "Per Infuential Time Period: (hour, cnt)\n",
        "[(15, 20164), (14, 20092), (16, 17028), (13, 16897), (12, 16084)]\n",
        "Per Infuential Time Period: (quarter, cnt)\n",
        "[(4, 42036), (3, 37034), (1, 23838), (2, 21090)]\n",
        "Per Infuential Time Period: (weekend, cnt)\n",
        "[(0, 72330), (1, 51668)]\n",
        "\n",
        "Bottom 10 Tier Pagerank Measurements\n",
        "# Influential Tags: 133,\n",
        "% of Overall Tags: 3.69471641663e-05"
       ]
      },
      {
       "output_type": "stream",
       "stream": "stdout",
       "text": [
        "\n",
        "# Per Influential Exhibition Tags: 0\n",
        "% of Influential Tags: 0.0\n",
        "% of Overall Tags: 0.0\n",
        "# Per Influential After Closing Time Tags: 1\n",
        "Per Infuential Time Period: (year, cnt)\n",
        "[(2015, 124), (2016, 9)]\n",
        "Per Infuential Time Period: (hour, cnt)\n",
        "[(11, 21), (15, 18), (16, 18), (12, 17), (14, 17)]\n",
        "Per Infuential Time Period: (quarter, cnt)\n",
        "[(2, 54), (3, 31), (4, 28), (1, 20)]\n",
        "Per Infuential Time Period: (weekend, cnt)\n",
        "[(0, 97), (1, 36)]\n"
       ]
      }
     ],
     "prompt_number": 9
    },
    {
     "cell_type": "code",
     "collapsed": false,
     "input": [
      "### Plot Pagerank Activity\n",
      "cfgu.plot_pagerank_activity(infl_tier1_tags)"
     ],
     "language": "python",
     "metadata": {},
     "outputs": [
      {
       "metadata": {},
       "output_type": "display_data",
       "png": "[encoded data removed]",
       "text": [
        "<matplotlib.figure.Figure at 0x7f2917afd890>"
       ]
      }
     ],
     "prompt_number": 10
    },
    {
     "cell_type": "code",
     "collapsed": false,
     "input": [
      "### Evaluate Community Clusters\n",
      "communities = sgf.g.labelPropagation(maxIter=50)\n",
      "maj_clusters, clusters_meta = cfgu.evaluate_communities(communities, meta.df_objects_loctypes, pen.df_pen)\n",
      "sgf.subset_majority_clusters(maj_clusters)"
     ],
     "language": "python",
     "metadata": {},
     "outputs": [],
     "prompt_number": 11
    },
    {
     "cell_type": "code",
     "collapsed": false,
     "input": [
      "### explore clusters\n",
      "#['exhibitions', 'afterclosing', 'depts', 'loanstate', 'rooms', 'types']\n",
      "display(clusters_meta['exhibitions'])\n",
      "display(clusters_meta['types'])\n",
      "display(clusters_meta['rooms'])"
     ],
     "language": "python",
     "metadata": {},
     "outputs": [
      {
       "html": [
        "<div style=\"max-width:1500px;overflow:auto;\">\n",
        "<table border=\"1\" class=\"dataframe\">\n",
        "  <thead>\n",
        "    <tr style=\"text-align: right;\">\n",
        "      <th></th>\n",
        "      <th></th>\n",
        "      <th>during_exhibition</th>\n",
        "    </tr>\n",
        "    <tr>\n",
        "      <th>label</th>\n",
        "      <th>during_exhibition</th>\n",
        "      <th></th>\n",
        "    </tr>\n",
        "  </thead>\n",
        "  <tbody>\n",
        "    <tr>\n",
        "      <th>40</th>\n",
        "      <th>0</th>\n",
        "      <td>3</td>\n",
        "    </tr>\n",
        "    <tr>\n",
        "      <th>2587</th>\n",
        "      <th>0</th>\n",
        "      <td>2</td>\n",
        "    </tr>\n",
        "    <tr>\n",
        "      <th rowspan=\"2\" valign=\"top\">4464</th>\n",
        "      <th>1</th>\n",
        "      <td>1666713</td>\n",
        "    </tr>\n",
        "    <tr>\n",
        "      <th>0</th>\n",
        "      <td>1446363</td>\n",
        "    </tr>\n",
        "    <tr>\n",
        "      <th>4675</th>\n",
        "      <th>0</th>\n",
        "      <td>4</td>\n",
        "    </tr>\n",
        "    <tr>\n",
        "      <th>5686</th>\n",
        "      <th>0</th>\n",
        "      <td>71249</td>\n",
        "    </tr>\n",
        "  </tbody>\n",
        "</table>\n",
        "</div>"
       ],
       "metadata": {},
       "output_type": "display_data",
       "text": [
        "                         during_exhibition\n",
        "label during_exhibition                   \n",
        "40    0                                  3\n",
        "2587  0                                  2\n",
        "4464  1                            1666713\n",
        "      0                            1446363\n",
        "4675  0                                  4\n",
        "5686  0                              71249"
       ]
      },
      {
       "html": [
        "<div style=\"max-width:1500px;overflow:auto;\">\n",
        "<table border=\"1\" class=\"dataframe\">\n",
        "  <thead>\n",
        "    <tr style=\"text-align: right;\">\n",
        "      <th></th>\n",
        "      <th></th>\n",
        "      <th>type</th>\n",
        "    </tr>\n",
        "    <tr>\n",
        "      <th>label</th>\n",
        "      <th>type</th>\n",
        "      <th></th>\n",
        "    </tr>\n",
        "  </thead>\n",
        "  <tbody>\n",
        "    <tr>\n",
        "      <th>40</th>\n",
        "      <th>Drawing</th>\n",
        "      <td>3</td>\n",
        "    </tr>\n",
        "    <tr>\n",
        "      <th>2587</th>\n",
        "      <th>Drawing</th>\n",
        "      <td>2</td>\n",
        "    </tr>\n",
        "    <tr>\n",
        "      <th rowspan=\"5\" valign=\"top\">4464</th>\n",
        "      <th>poster</th>\n",
        "      <td>572053</td>\n",
        "    </tr>\n",
        "    <tr>\n",
        "      <th>Drawing</th>\n",
        "      <td>199176</td>\n",
        "    </tr>\n",
        "    <tr>\n",
        "      <th>Concept art</th>\n",
        "      <td>126727</td>\n",
        "    </tr>\n",
        "    <tr>\n",
        "      <th>Sidewall</th>\n",
        "      <td>105684</td>\n",
        "    </tr>\n",
        "    <tr>\n",
        "      <th>textile</th>\n",
        "      <td>77764</td>\n",
        "    </tr>\n",
        "    <tr>\n",
        "      <th rowspan=\"2\" valign=\"top\">4675</th>\n",
        "      <th>Print</th>\n",
        "      <td>3</td>\n",
        "    </tr>\n",
        "    <tr>\n",
        "      <th>poster</th>\n",
        "      <td>1</td>\n",
        "    </tr>\n",
        "    <tr>\n",
        "      <th rowspan=\"5\" valign=\"top\">5686</th>\n",
        "      <th>vessel</th>\n",
        "      <td>8778</td>\n",
        "    </tr>\n",
        "    <tr>\n",
        "      <th>Print</th>\n",
        "      <td>3760</td>\n",
        "    </tr>\n",
        "    <tr>\n",
        "      <th>Specimen</th>\n",
        "      <td>3159</td>\n",
        "    </tr>\n",
        "    <tr>\n",
        "      <th>sketch</th>\n",
        "      <td>3092</td>\n",
        "    </tr>\n",
        "    <tr>\n",
        "      <th>Rendering</th>\n",
        "      <td>2799</td>\n",
        "    </tr>\n",
        "  </tbody>\n",
        "</table>\n",
        "</div>"
       ],
       "metadata": {},
       "output_type": "display_data",
       "text": [
        "                     type\n",
        "label type               \n",
        "40    Drawing           3\n",
        "2587  Drawing           2\n",
        "4464  poster       572053\n",
        "      Drawing      199176\n",
        "      Concept art  126727\n",
        "      Sidewall     105684\n",
        "      textile       77764\n",
        "4675  Print             3\n",
        "      poster            1\n",
        "5686  vessel         8778\n",
        "      Print          3760\n",
        "      Specimen       3159\n",
        "      sketch         3092\n",
        "      Rendering      2799"
       ]
      },
      {
       "html": [
        "<div style=\"max-width:1500px;overflow:auto;\">\n",
        "<table border=\"1\" class=\"dataframe\">\n",
        "  <thead>\n",
        "    <tr style=\"text-align: right;\">\n",
        "      <th></th>\n",
        "      <th></th>\n",
        "      <th>room_name</th>\n",
        "    </tr>\n",
        "    <tr>\n",
        "      <th>label</th>\n",
        "      <th>room_name</th>\n",
        "      <th></th>\n",
        "    </tr>\n",
        "  </thead>\n",
        "  <tbody>\n",
        "    <tr>\n",
        "      <th rowspan=\"2\" valign=\"top\">40</th>\n",
        "      <th>202</th>\n",
        "      <td>1</td>\n",
        "    </tr>\n",
        "    <tr>\n",
        "      <th>205</th>\n",
        "      <td>1</td>\n",
        "    </tr>\n",
        "    <tr>\n",
        "      <th>2587</th>\n",
        "      <th>205</th>\n",
        "      <td>2</td>\n",
        "    </tr>\n",
        "    <tr>\n",
        "      <th rowspan=\"5\" valign=\"top\">4464</th>\n",
        "      <th>205</th>\n",
        "      <td>970</td>\n",
        "    </tr>\n",
        "    <tr>\n",
        "      <th>202</th>\n",
        "      <td>931</td>\n",
        "    </tr>\n",
        "    <tr>\n",
        "      <th>103</th>\n",
        "      <td>777</td>\n",
        "    </tr>\n",
        "    <tr>\n",
        "      <th>206</th>\n",
        "      <td>315</td>\n",
        "    </tr>\n",
        "    <tr>\n",
        "      <th>302</th>\n",
        "      <td>234</td>\n",
        "    </tr>\n",
        "    <tr>\n",
        "      <th rowspan=\"2\" valign=\"top\">4675</th>\n",
        "      <th>202</th>\n",
        "      <td>1</td>\n",
        "    </tr>\n",
        "    <tr>\n",
        "      <th>205</th>\n",
        "      <td>1</td>\n",
        "    </tr>\n",
        "    <tr>\n",
        "      <th>5686</th>\n",
        "      <th>302</th>\n",
        "      <td>175</td>\n",
        "    </tr>\n",
        "  </tbody>\n",
        "</table>\n",
        "</div>"
       ],
       "metadata": {},
       "output_type": "display_data",
       "text": [
        "                 room_name\n",
        "label room_name           \n",
        "40    202                1\n",
        "      205                1\n",
        "2587  205                2\n",
        "4464  205              970\n",
        "      202              931\n",
        "      103              777\n",
        "      206              315\n",
        "      302              234\n",
        "4675  202                1\n",
        "      205                1\n",
        "5686  302              175"
       ]
      }
     ],
     "prompt_number": 12
    },
    {
     "cell_type": "code",
     "collapsed": false,
     "input": [
      "### exploration from artworks associated to rooms via count\n",
      "df_associate_rooms = meta.debug_topk_room_types()\n",
      "df_associate_rooms"
     ],
     "language": "python",
     "metadata": {},
     "outputs": [
      {
       "html": [
        "<div style=\"max-width:1500px;overflow:auto;\">\n",
        "<table border=\"1\" class=\"dataframe\">\n",
        "  <thead>\n",
        "    <tr style=\"text-align: right;\">\n",
        "      <th></th>\n",
        "      <th>query</th>\n",
        "      <th>rooms</th>\n",
        "    </tr>\n",
        "  </thead>\n",
        "  <tbody>\n",
        "    <tr>\n",
        "      <th>0</th>\n",
        "      <td>Concept art</td>\n",
        "      <td>{u'103': 637}</td>\n",
        "    </tr>\n",
        "    <tr>\n",
        "      <th>1</th>\n",
        "      <td>Drawing</td>\n",
        "      <td>{u'202': 10103, u'205': 24814, u'105': 134}</td>\n",
        "    </tr>\n",
        "    <tr>\n",
        "      <th>2</th>\n",
        "      <td>poster</td>\n",
        "      <td>{u'202': 2270, u'205': 514, u'107': 46}</td>\n",
        "    </tr>\n",
        "    <tr>\n",
        "      <th>3</th>\n",
        "      <td>Print</td>\n",
        "      <td>{u'201': 65, u'202': 3994, u'205': 16037}</td>\n",
        "    </tr>\n",
        "    <tr>\n",
        "      <th>4</th>\n",
        "      <td>Sidewall</td>\n",
        "      <td>{u'202': 19, u'213': 22, u'206': 42}</td>\n",
        "    </tr>\n",
        "    <tr>\n",
        "      <th>5</th>\n",
        "      <td>textile</td>\n",
        "      <td>{u'202': 25, u'205': 12, u'206': 24}</td>\n",
        "    </tr>\n",
        "  </tbody>\n",
        "</table>\n",
        "</div>"
       ],
       "metadata": {},
       "output_type": "pyout",
       "prompt_number": 13,
       "text": [
        "         query                                        rooms\n",
        "0  Concept art                                {u'103': 637}\n",
        "1      Drawing  {u'202': 10103, u'205': 24814, u'105': 134}\n",
        "2       poster      {u'202': 2270, u'205': 514, u'107': 46}\n",
        "3        Print    {u'201': 65, u'202': 3994, u'205': 16037}\n",
        "4     Sidewall         {u'202': 19, u'213': 22, u'206': 42}\n",
        "5      textile         {u'202': 25, u'205': 12, u'206': 24}"
       ]
      }
     ],
     "prompt_number": 13
    },
    {
     "cell_type": "code",
     "collapsed": false,
     "input": [],
     "language": "python",
     "metadata": {},
     "outputs": []
    }
   ],
   "metadata": {}
  }
 ]
}