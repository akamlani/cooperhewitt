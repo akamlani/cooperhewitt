{
 "cells": [
  {
   "cell_type": "code",
   "execution_count": 15,
   "metadata": {
    "collapsed": false
   },
   "outputs": [
    {
     "data": {
      "text/plain": [
       "['',\n",
       " '/usr/local/lib/python2.7/site-packages',\n",
       " '/opt/spark-1.6.2-bin-hadoop2.6/python',\n",
       " '/Users/akamlani/Projects/datascience/cooperhewitt/src/notebooks',\n",
       " '/Users/akamlani/anaconda/lib/python27.zip',\n",
       " '/Users/akamlani/anaconda/lib/python2.7',\n",
       " '/Users/akamlani/anaconda/lib/python2.7/plat-darwin',\n",
       " '/Users/akamlani/anaconda/lib/python2.7/plat-mac',\n",
       " '/Users/akamlani/anaconda/lib/python2.7/plat-mac/lib-scriptpackages',\n",
       " '/Users/akamlani/anaconda/lib/python2.7/lib-tk',\n",
       " '/Users/akamlani/anaconda/lib/python2.7/lib-old',\n",
       " '/Users/akamlani/anaconda/lib/python2.7/lib-dynload',\n",
       " '/Users/akamlani/.local/lib/python2.7/site-packages',\n",
       " '/Users/akamlani/anaconda/lib/python2.7/site-packages/Sphinx-1.3.1-py2.7.egg',\n",
       " '/Users/akamlani/anaconda/lib/python2.7/site-packages/setuptools-20.2.2-py2.7.egg',\n",
       " '/Users/akamlani/anaconda/lib/python2.7/site-packages',\n",
       " '/Users/akamlani/anaconda/lib/python2.7/site-packages/aeosa',\n",
       " '/Users/akamlani/anaconda/lib/python2.7/site-packages/IPython/extensions',\n",
       " '/Users/akamlani/.ipython',\n",
       " ['/Users/akamlani/Projects/datascience/cooperhewitt/src',\n",
       "  '/Users/akamlani/Projects/datascience/cooperhewitt/apps'],\n",
       " ['/Users/akamlani/Projects/datascience/cooperhewitt/src',\n",
       "  '/Users/akamlani/Projects/datascience/cooperhewitt/apps'],\n",
       " ['/Users/akamlani/Projects/datascience/cooperhewitt/src',\n",
       "  '/Users/akamlani/Projects/datascience/cooperhewitt//src/apps'],\n",
       " ['/Users/akamlani/Projects/datascience/cooperhewitt/src',\n",
       "  '/Users/akamlani/Projects/datascience/cooperhewitt//src/apps'],\n",
       " ['/Users/akamlani/Projects/datascience/cooperhewitt/src',\n",
       "  '/Users/akamlani/Projects/datascience/cooperhewitt/src/apps'],\n",
       " ['/Users/akamlani/Projects/datascience/cooperhewitt/src',\n",
       "  '/Users/akamlani/Projects/datascience/cooperhewitt/src/apps'],\n",
       " ['/Users/akamlani/Projects/datascience/cooperhewitt/src',\n",
       "  '/Users/akamlani/Projects/datascience/cooperhewitt/src/apps'],\n",
       " ['/Users/akamlani/Projects/datascience/cooperhewitt/src',\n",
       "  '/Users/akamlani/Projects/datascience/cooperhewitt/src/apps'],\n",
       " '/Users/akamlani/Projects/datascience/cooperhewitt/src',\n",
       " '/Users/akamlani/Projects/datascience/cooperhewitt/src/apps']"
      ]
     },
     "execution_count": 15,
     "metadata": {},
     "output_type": "execute_result"
    }
   ],
   "source": [
    "%matplotlib inline\n",
    "import os\n",
    "import sys\n",
    "import warnings\n",
    "warnings.filterwarnings('ignore')\n",
    "os.environ['COOPERHEWITT_ROOT'] = '/Users/akamlani/Projects/datascience/cooperhewitt'\n",
    "sys.path.append(os.environ['COOPERHEWITT_ROOT'] + '/src')\n",
    "sys.path.append(os.environ['COOPERHEWITT_ROOT'] + '/src/apps')\n",
    "sys.path\n",
    "#import graphs_app as ga"
   ]
  },
  {
   "cell_type": "code",
   "execution_count": 21,
   "metadata": {
    "collapsed": false
   },
   "outputs": [
    {
     "name": "stdout",
     "output_type": "stream",
     "text": [
      "The draw time for this plot will be slow for clients without much RAM.\n"
     ]
    },
    {
     "data": {
      "text/html": [
       "<iframe id=\"igraph\" scrolling=\"no\" style=\"border:none;\" seamless=\"seamless\" src=\"https://plot.ly/~akamlani/89.embed\" height=\"1000px\" width=\"1000px\"></iframe>"
      ],
      "text/plain": [
       "<plotly.tools.PlotlyDisplay object>"
      ]
     },
     "execution_count": 21,
     "metadata": {},
     "output_type": "execute_result"
    }
   ],
   "source": [
    "# for interactivity\n",
    "import plotly as py\n",
    "py.plotly.iplot(ga.fig, filename='cooperhewitt_tagbehavior')"
   ]
  }
 ],
 "metadata": {
  "kernelspec": {
   "display_name": "Python 2",
   "language": "python",
   "name": "python2"
  },
  "language_info": {
   "codemirror_mode": {
    "name": "ipython",
    "version": 2
   },
   "file_extension": ".py",
   "mimetype": "text/x-python",
   "name": "python",
   "nbconvert_exporter": "python",
   "pygments_lexer": "ipython2",
   "version": "2.7.11"
  }
 },
 "nbformat": 4,
 "nbformat_minor": 0
}
